{
 "cells": [
  {
   "cell_type": "markdown",
   "metadata": {},
   "source": [
    "# Short Sequence-to-Point with NILMTK"
   ]
  },
  {
   "cell_type": "markdown",
   "metadata": {},
   "source": [
    "Training the disaggregator using the iawe data. We are training the disaggregation for the fridge."
   ]
  },
  {
   "cell_type": "code",
   "execution_count": null,
   "metadata": {},
   "outputs": [],
   "source": [
    "from __future__ import print_function, division\n",
    "import warnings; warnings.filterwarnings('ignore')\n",
    "import time\n",
    "\n",
    "from matplotlib import rcParams\n",
    "import matplotlib.pyplot as plt\n",
    "\n",
    "from nilmtk import DataSet, TimeFrame, MeterGroup, HDFDataStore\n",
    "from shortseq2pointdisaggregator import ShortSeq2PointDisaggregator\n",
    "import metrics\n",
    "\n",
    "\n",
    "train = DataSet('iawe.h5')\n",
    "test = DataSet('iawe.h5')\n",
    "\n",
    "\n",
    "train.set_window(start=\"5-24-2013\", end=\"7-5-2013\")\n",
    "test.set_window(start=\"7-5-2013\", end=\"8-5-2013\")\n",
    "\n",
    "train_building = 1\n",
    "test_building = 1\n",
    "sample_period = 1\n",
    "meter_key = 'fridge'\n",
    "train_elec = train.buildings[train_building].elec\n",
    "test_elec = test.buildings[test_building].elec\n",
    "\n",
    "train_meter = train_elec.submeters()[meter_key]\n",
    "train_mains = train_elec.mains()\n",
    "test_mains = test_elec.mains()"
   ]
  },
  {
   "cell_type": "markdown",
   "metadata": {},
   "source": [
    "Next, we need to define the disaggregator model."
   ]
  },
  {
   "cell_type": "code",
   "execution_count": null,
   "metadata": {
    "scrolled": true
   },
   "outputs": [],
   "source": [
    "disaggregator = ShortSeq2PointDisaggregator()"
   ]
  },
  {
   "cell_type": "markdown",
   "metadata": {},
   "source": [
    "Then train the model. We need to input the train data as well as their sample period. Also, we need to pass the desired number of training epochs. Finally, save the model for later use."
   ]
  },
  {
   "cell_type": "code",
   "execution_count": null,
   "metadata": {},
   "outputs": [],
   "source": [
    "epochs = 0\n",
    "for i in range(3):\n",
    "    print(\"CHECKPOINT {}\".format(epochs))\n",
    "    disaggregator.train(train_mains, train_meter, epochs=5, sample_period=sample_period)\n",
    "    epochs += 5\n",
    "    disaggregator.export_model(\"IAWE-RNN-h{}-{}-{}epochs.h5\".format(train_building,\n",
    "                                                        meter_key,\n",
    "                                                        epochs))"
   ]
  },
  {
   "cell_type": "markdown",
   "metadata": {},
   "source": [
    "We can now disaggregate energy data."
   ]
  },
  {
   "cell_type": "code",
   "execution_count": null,
   "metadata": {},
   "outputs": [],
   "source": [
    "disag_filename = \"disag-out.h5\"\n",
    "output = HDFDataStore(disag_filename, 'w')\n",
    "disaggregator.disaggregate(test_mains, output, train_meter, sample_period=sample_period)\n",
    "output.close()"
   ]
  },
  {
   "cell_type": "markdown",
   "metadata": {},
   "source": [
    "Results"
   ]
  },
  {
   "cell_type": "code",
   "execution_count": null,
   "metadata": {},
   "outputs": [],
   "source": [
    "result = DataSet(disag_filename)\n",
    "res_elec = result.buildings[test_building].elec\n",
    "rpaf = metrics.recall_precision_accuracy_f1(res_elec[meter_key], test_elec[meter_key])\n",
    "print(\"============ Recall: {}\".format(rpaf[0]))\n",
    "print(\"============ Precision: {}\".format(rpaf[1]))\n",
    "print(\"============ Accuracy: {}\".format(rpaf[2]))\n",
    "print(\"============ F1 Score: {}\".format(rpaf[2]))\n",
    "\n",
    "print(\"============ Relative error in total energy: {}\".format(metrics.relative_error_total_energy(res_elec[meter_key], test_elec[meter_key])))\n",
    "print(\"============ Mean absolute error(in Watts): {}\".format(metrics.mean_absolute_error(res_elec[meter_key], test_elec[meter_key])))"
   ]
  }
 ],
 "metadata": {
  "anaconda-cloud": {},
  "kernelspec": {
   "display_name": "Python 3",
   "language": "python",
   "name": "python3"
  },
  "language_info": {
   "codemirror_mode": {
    "name": "ipython",
    "version": 3
   },
   "file_extension": ".py",
   "mimetype": "text/x-python",
   "name": "python",
   "nbconvert_exporter": "python",
   "pygments_lexer": "ipython3",
   "version": "3.6.8"
  }
 },
 "nbformat": 4,
 "nbformat_minor": 2
}
